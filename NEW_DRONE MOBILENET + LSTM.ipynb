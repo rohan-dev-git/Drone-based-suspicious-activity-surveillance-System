{
 "cells": [
  {
   "cell_type": "markdown",
   "id": "8154b34a",
   "metadata": {},
   "source": [
    "### Importing libraries"
   ]
  },
  {
   "cell_type": "code",
   "execution_count": 54,
   "id": "86a9ca61",
   "metadata": {},
   "outputs": [],
   "source": [
    "import os\n",
    "import cv2\n",
    "import pafy\n",
    "import math\n",
    "import random\n",
    "import numpy as np\n",
    "import datetime as dt\n",
    "import tensorflow as tf\n",
    "from collections import deque\n",
    "import matplotlib.pyplot as plt\n",
    "\n",
    "from moviepy.editor import *\n",
    "%matplotlib inline\n",
    "\n",
    "from sklearn.model_selection import train_test_split\n",
    "\n",
    "from tensorflow.keras.layers import *\n",
    "from tensorflow.keras.models import Sequential,Model\n",
    "from tensorflow.keras.utils import to_categorical\n",
    "from tensorflow.keras.callbacks import EarlyStopping\n",
    "from tensorflow.keras.utils import plot_model\n",
    "from tensorflow.keras.applications import MobileNetV2\n"
   ]
  },
  {
   "cell_type": "markdown",
   "id": "97efd4cf",
   "metadata": {},
   "source": [
    "## Defining constants"
   ]
  },
  {
   "cell_type": "code",
   "execution_count": 55,
   "id": "5ec2b5b5",
   "metadata": {},
   "outputs": [],
   "source": [
    "IMAGE_HEIGHT , IMAGE_WIDTH = 128,128\n",
    "SEQUENCE_LENGTH = 30\n",
    "DATASET_PATH = \"/Users/praksj/Documents/VIT/Year-3/sem 6/Drone/jcomp/working/dataset\"\n",
    "\n",
    "CLASS_LABELS = [\"walking\", \"fights\", \"running\"]"
   ]
  },
  {
   "cell_type": "markdown",
   "id": "6deafae2",
   "metadata": {},
   "source": [
    "### Frame extractor"
   ]
  },
  {
   "cell_type": "code",
   "execution_count": 56,
   "id": "c7babb11",
   "metadata": {},
   "outputs": [],
   "source": [
    "def frames_extraction(video_path):\n",
    "    '''\n",
    "    This function will extract the required frames from a video after resizing and normalizing them.\n",
    "    Args:\n",
    "        video_path: The path of the video in the disk, whose frames are to be extracted.\n",
    "    Returns:\n",
    "        frames_list: A list containing the resized and normalized frames of the video.\n",
    "    '''\n",
    "\n",
    "    # Declare a list to store video frames.\n",
    "    frames_list = []\n",
    "    \n",
    "    # Read the Video File using the VideoCapture object.\n",
    "    video_reader = cv2.VideoCapture(video_path)\n",
    "\n",
    "    # Get the total number of frames in the video.\n",
    "    video_frames_count = int(video_reader.get(cv2.CAP_PROP_FRAME_COUNT))\n",
    "\n",
    "    # Calculate the the interval after which frames will be added to the list.\n",
    "    skip_frames_window = max(int(video_frames_count/SEQUENCE_LENGTH), 1)\n",
    "\n",
    "    # Iterate through the Video Frames.\n",
    "    for frame_counter in range(SEQUENCE_LENGTH):\n",
    "\n",
    "        # Set the current frame position of the video.\n",
    "        video_reader.set(cv2.CAP_PROP_POS_FRAMES, frame_counter * skip_frames_window)\n",
    "\n",
    "        # Reading the frame from the video. \n",
    "        success, frame = video_reader.read() \n",
    "\n",
    "        # Check if Video frame is not successfully read then break the loop\n",
    "        if not success:\n",
    "            break\n",
    "\n",
    "        # Resize the Frame to fixed height and width.\n",
    "        resized_frame = cv2.resize(frame, (IMAGE_HEIGHT, IMAGE_WIDTH))\n",
    "        \n",
    "        # Normalize the resized frame by dividing it with 255 so that each pixel value then lies between 0 and 1\n",
    "        normalized_frame = resized_frame / 255\n",
    "        \n",
    "        # Append the normalized frame into the frames list\n",
    "        frames_list.append(normalized_frame)\n",
    "    \n",
    "    # Release the VideoCapture object. \n",
    "    video_reader.release()\n",
    "\n",
    "    # Return the frames list.\n",
    "    return frames_list"
   ]
  },
  {
   "cell_type": "markdown",
   "id": "5299d206",
   "metadata": {},
   "source": [
    "### Data extractor function"
   ]
  },
  {
   "cell_type": "code",
   "execution_count": 57,
   "id": "35172a9c",
   "metadata": {},
   "outputs": [],
   "source": [
    "def create_dataset():\n",
    "    # Declared Empty Lists to store the features, labels and video file path values.\n",
    "    features = []\n",
    "    labels = []\n",
    "    video_files_paths = []\n",
    "    \n",
    "    # Iterating through all the classes mentioned in the classes list\n",
    "    for class_index, class_name in enumerate(CLASS_LABELS):\n",
    "        \n",
    "        # Display the name of the class whose data is being extracted.\n",
    "        print(f'Extracting Data of Class: {class_name}')\n",
    "        \n",
    "        # Get the list of video files present in the specific class name directory.\n",
    "        files_list = os.listdir(os.path.join(DATASET_PATH, class_name))\n",
    "        \n",
    "        # Iterate through all the files present in the files list.\n",
    "        for file_name in files_list:\n",
    "            \n",
    "            # Get the complete video path.\n",
    "            video_file_path = os.path.join(DATASET_PATH, class_name, file_name)\n",
    "\n",
    "            # Extract the frames of the video file.\n",
    "            frames = frames_extraction(video_file_path)\n",
    "\n",
    "            # Check if the extracted frames are equal to the SEQUENCE_LENGTH specified above.\n",
    "            # So ignore the vides having frames less than the SEQUENCE_LENGTH.\n",
    "            if len(frames) == SEQUENCE_LENGTH:\n",
    "\n",
    "                # Append the data to their repective lists.\n",
    "                features.append(frames)\n",
    "                labels.append(class_index)\n",
    "                video_files_paths.append(video_file_path)\n",
    "\n",
    "    # Converting the list to numpy arrays\n",
    "    features = np.asarray(features)\n",
    "    labels = np.array(labels)  \n",
    "    \n",
    "    # Return the frames, class index, and video file path.\n",
    "    return features, labels, video_files_paths\n"
   ]
  },
  {
   "cell_type": "markdown",
   "id": "8a1bcacc",
   "metadata": {},
   "source": [
    "### Creating the dataset"
   ]
  },
  {
   "cell_type": "code",
   "execution_count": 58,
   "id": "9d686eb4",
   "metadata": {},
   "outputs": [
    {
     "name": "stdout",
     "output_type": "stream",
     "text": [
      "Extracting Data of Class: walking\n",
      "Extracting Data of Class: fights\n",
      "Extracting Data of Class: running\n"
     ]
    }
   ],
   "source": [
    "features, labels, video_files_paths = create_dataset()"
   ]
  },
  {
   "cell_type": "markdown",
   "id": "43d62510",
   "metadata": {},
   "source": [
    "### adding more data"
   ]
  },
  {
   "cell_type": "code",
   "execution_count": 59,
   "id": "c0fd2723",
   "metadata": {},
   "outputs": [
    {
     "name": "stdout",
     "output_type": "stream",
     "text": [
      "done\n",
      "done\n",
      "done\n",
      "done\n"
     ]
    }
   ],
   "source": [
    "# land data\n",
    "land = []\n",
    "land_label = []\n",
    "land_path1 = \"/Users/praksj/Documents/VIT/Year-3/sem 6/Drone/jcomp/working/dataset/land/highway.mp4\"\n",
    "vid = cv2.VideoCapture(land_path1)\n",
    "ctr = 0\n",
    "frame_list = []\n",
    "# reading images\n",
    "while True:\n",
    "    ret, frame = vid.read()\n",
    "    if not ret:\n",
    "        print(\"done\")\n",
    "        break\n",
    "    else: \n",
    "        ctr += 1\n",
    "        resized_frame = cv2.resize(frame, (IMAGE_HEIGHT, IMAGE_WIDTH))\n",
    "        # Normalize the resized frame by dividing it with 255 so that each pixel value then lies between 0 and 1\n",
    "        normalized_frame = resized_frame / 255\n",
    "        # Append the normalized frame into the frames list\n",
    "        frame_list.append(normalized_frame)\n",
    "        if(ctr == SEQUENCE_LENGTH):\n",
    "            # sendning frames to model\n",
    "            f = np.array(frame_list)\n",
    "            land.append(f)\n",
    "            land_label.append(3)\n",
    "            ctr = 0\n",
    "            frame_list.clear()\n",
    "\n",
    "land_path2 = \"/Users/praksj/Documents/VIT/Year-3/sem 6/Drone/jcomp/working/dataset/land/city-22669.mp4\"\n",
    "vid = cv2.VideoCapture(land_path2)\n",
    "ctr = 0\n",
    "frame_list = []\n",
    "# reading images\n",
    "while True:\n",
    "    ret, frame = vid.read()\n",
    "    if not ret:\n",
    "        print(\"done\")\n",
    "        break\n",
    "    else: \n",
    "        ctr += 1\n",
    "        resized_frame = cv2.resize(frame, (IMAGE_HEIGHT, IMAGE_WIDTH))\n",
    "        # Normalize the resized frame by dividing it with 255 so that each pixel value then lies between 0 and 1\n",
    "        normalized_frame = resized_frame / 255\n",
    "        # Append the normalized frame into the frames list\n",
    "        frame_list.append(normalized_frame)\n",
    "        if(ctr == SEQUENCE_LENGTH):\n",
    "            # sendning frames to model\n",
    "            f = np.array(frame_list)\n",
    "            land.append(f)\n",
    "            land_label.append(3)\n",
    "            ctr = 0\n",
    "            frame_list.clear()\n",
    "        \n",
    "# adding running\n",
    "land_path2 = \"/Users/praksj/Documents/VIT/Year-3/sem 6/Drone/jcomp/working/dataset/extra/run.mp4\"\n",
    "vid = cv2.VideoCapture(land_path2)\n",
    "ctr = 0\n",
    "frame_list = []\n",
    "# reading images\n",
    "while True:\n",
    "    ret, frame = vid.read()\n",
    "    if not ret:\n",
    "        print(\"done\")\n",
    "        break\n",
    "    else: \n",
    "        ctr += 1\n",
    "        resized_frame = cv2.resize(frame, (IMAGE_HEIGHT, IMAGE_WIDTH))\n",
    "        # Normalize the resized frame by dividing it with 255 so that each pixel value then lies between 0 and 1\n",
    "        normalized_frame = resized_frame / 255\n",
    "        # Append the normalized frame into the frames list\n",
    "        frame_list.append(normalized_frame)\n",
    "        if(ctr == SEQUENCE_LENGTH):\n",
    "            # sendning frames to model\n",
    "            f = np.array(frame_list)\n",
    "            land.append(f)\n",
    "            land_label.append(2)\n",
    "            ctr = 0\n",
    "            frame_list.clear()\n",
    "            \n",
    "# adding walking\n",
    "land_path2 = \"/Users/praksj/Documents/VIT/Year-3/sem 6/Drone/jcomp/working/dataset/extra/walk.mp4\"\n",
    "vid = cv2.VideoCapture(land_path2)\n",
    "ctr = 0\n",
    "frame_list = []\n",
    "# reading images\n",
    "while True:\n",
    "    ret, frame = vid.read()\n",
    "    if not ret:\n",
    "        print(\"done\")\n",
    "        break\n",
    "    else: \n",
    "        ctr += 1\n",
    "        resized_frame = cv2.resize(frame, (IMAGE_HEIGHT, IMAGE_WIDTH))\n",
    "        # Normalize the resized frame by dividing it with 255 so that each pixel value then lies between 0 and 1\n",
    "        normalized_frame = resized_frame / 255\n",
    "        # Append the normalized frame into the frames list\n",
    "        frame_list.append(normalized_frame)\n",
    "        if(ctr == SEQUENCE_LENGTH):\n",
    "            # sendning frames to model\n",
    "            f = np.array(frame_list)\n",
    "            land.append(f)\n",
    "            land_label.append(0)\n",
    "            ctr = 0\n",
    "            frame_list.clear()"
   ]
  },
  {
   "cell_type": "code",
   "execution_count": 60,
   "id": "8cc78549",
   "metadata": {},
   "outputs": [
    {
     "data": {
      "text/plain": [
       "(219, 30, 128, 128, 3)"
      ]
     },
     "execution_count": 60,
     "metadata": {},
     "output_type": "execute_result"
    }
   ],
   "source": [
    "land = np.array(land)\n",
    "land.shape"
   ]
  },
  {
   "cell_type": "code",
   "execution_count": 61,
   "id": "bbd762bf",
   "metadata": {},
   "outputs": [
    {
     "data": {
      "text/plain": [
       "(219,)"
      ]
     },
     "execution_count": 61,
     "metadata": {},
     "output_type": "execute_result"
    }
   ],
   "source": [
    "land_label = np.array(land_label)\n",
    "land_label.shape"
   ]
  },
  {
   "cell_type": "code",
   "execution_count": 62,
   "id": "13794219",
   "metadata": {},
   "outputs": [
    {
     "data": {
      "text/plain": [
       "(519, 30, 128, 128, 3)"
      ]
     },
     "execution_count": 62,
     "metadata": {},
     "output_type": "execute_result"
    }
   ],
   "source": [
    "features = np.concatenate((features,land), axis = 0)\n",
    "features.shape"
   ]
  },
  {
   "cell_type": "code",
   "execution_count": 63,
   "id": "5e4925c4",
   "metadata": {},
   "outputs": [
    {
     "data": {
      "text/plain": [
       "(519,)"
      ]
     },
     "execution_count": 63,
     "metadata": {},
     "output_type": "execute_result"
    }
   ],
   "source": [
    "labels = np.concatenate((labels, land_label),axis = 0)\n",
    "labels.shape"
   ]
  },
  {
   "cell_type": "markdown",
   "id": "c87418e3",
   "metadata": {},
   "source": [
    "##### classes\n",
    "walking 0\n",
    "\n",
    "fighting 1\n",
    "\n",
    "runnnig 2\n",
    "\n",
    "land  3"
   ]
  },
  {
   "cell_type": "markdown",
   "id": "8ec60b23",
   "metadata": {},
   "source": [
    "### One hot encoding labels and splitting the data"
   ]
  },
  {
   "cell_type": "code",
   "execution_count": 64,
   "id": "3c2cb5bf",
   "metadata": {},
   "outputs": [],
   "source": [
    "one_hot_encoded_labels = to_categorical(labels)\n",
    "# Split the Data into Train ( 75% ) and Test Set ( 25% ).\n",
    "features_train, features_test, labels_train, labels_test = train_test_split(features, \n",
    "                                                                            one_hot_encoded_labels, \n",
    "                                                                            test_size = 0.25, \n",
    "                                                                            shuffle = True, \n",
    "                                                                            random_state = 106)\n",
    "features = None\n",
    "labels = None"
   ]
  },
  {
   "cell_type": "markdown",
   "id": "cd05ce33",
   "metadata": {},
   "source": [
    "### Defining Plot function"
   ]
  },
  {
   "cell_type": "code",
   "execution_count": 65,
   "id": "381bfc8e",
   "metadata": {},
   "outputs": [],
   "source": [
    "def plot(history):\n",
    "    plt.plot(history.history['accuracy'])\n",
    "    plt.plot(history.history['val_accuracy'])\n",
    "    plt.title(\"Model accuracy\")\n",
    "    plt.xlabel('Epochs')\n",
    "    plt.ylabel('Accuracy')\n",
    "    plt.legend(['train', 'val'], loc = \"lower right\")\n",
    "    plt.show()\n",
    "    \n",
    "    plt.plot(history.history['loss'])\n",
    "    plt.plot(history.history['val_loss'])\n",
    "    plt.title(\"Model loss\")\n",
    "    plt.xlabel('Epochs')\n",
    "    plt.ylabel('Loss')\n",
    "    plt.legend(['train', 'val'], loc = \"upper right\")\n",
    "    plt.show()\n",
    "    \n",
    "    accuracy = round(history.history['accuracy'][-1],4)\n",
    "    validation_accuracy = round(history.history['val_accuracy'][-1],4)\n",
    "    return (accuracy, validation_accuracy)"
   ]
  },
  {
   "cell_type": "markdown",
   "id": "17100c8b",
   "metadata": {},
   "source": [
    "### Creating the MOBILENET + LSTM Architecture"
   ]
  },
  {
   "cell_type": "code",
   "execution_count": 66,
   "id": "04f3d537",
   "metadata": {},
   "outputs": [],
   "source": [
    "def mobilenet_lstm_model():\n",
    "    pretrained_model = MobileNetV2(include_top=False,input_shape=(IMAGE_HEIGHT , IMAGE_WIDTH,3),)\n",
    "    pretrained_model.trainable = False\n",
    "   \n",
    "    inp = Input((SEQUENCE_LENGTH, IMAGE_HEIGHT, IMAGE_WIDTH, 3))\n",
    "    x = TimeDistributed(pretrained_model)(inp)\n",
    "    x = TimeDistributed(Flatten())(x)\n",
    "    x = LSTM(32,return_sequences = True)(x)\n",
    "    x = LSTM(8)(x)\n",
    "    out = Dense(4, activation = 'softmax')(x)\n",
    "    model = Model(inp, out)\n",
    "    model.compile(loss='categorical_crossentropy', \n",
    "              optimizer='adam', \n",
    "              metrics=['accuracy'])\n",
    "    model.summary()\n",
    "    return model\n",
    "    "
   ]
  },
  {
   "cell_type": "code",
   "execution_count": 67,
   "id": "52ba2bcb",
   "metadata": {},
   "outputs": [
    {
     "name": "stdout",
     "output_type": "stream",
     "text": [
      "Model: \"model_2\"\n",
      "_________________________________________________________________\n",
      " Layer (type)                Output Shape              Param #   \n",
      "=================================================================\n",
      " input_6 (InputLayer)        [(None, 30, 128, 128, 3)  0         \n",
      "                             ]                                   \n",
      "                                                                 \n",
      " time_distributed_4 (TimeDis  (None, 30, 4, 4, 1280)   2257984   \n",
      " tributed)                                                       \n",
      "                                                                 \n",
      " time_distributed_5 (TimeDis  (None, 30, 20480)        0         \n",
      " tributed)                                                       \n",
      "                                                                 \n",
      " lstm_4 (LSTM)               (None, 30, 32)            2625664   \n",
      "                                                                 \n",
      " lstm_5 (LSTM)               (None, 8)                 1312      \n",
      "                                                                 \n",
      " dense_2 (Dense)             (None, 4)                 36        \n",
      "                                                                 \n",
      "=================================================================\n",
      "Total params: 4,884,996\n",
      "Trainable params: 2,627,012\n",
      "Non-trainable params: 2,257,984\n",
      "_________________________________________________________________\n"
     ]
    }
   ],
   "source": [
    "model = mobilenet_lstm_model()"
   ]
  },
  {
   "cell_type": "markdown",
   "id": "24143bab",
   "metadata": {},
   "source": [
    "### Training the model"
   ]
  },
  {
   "cell_type": "code",
   "execution_count": 68,
   "id": "94aedfc5",
   "metadata": {},
   "outputs": [
    {
     "name": "stdout",
     "output_type": "stream",
     "text": [
      "Epoch 1/15\n"
     ]
    },
    {
     "name": "stderr",
     "output_type": "stream",
     "text": [
      "2023-04-08 02:10:10.022705: I tensorflow/core/grappler/optimizers/custom_graph_optimizer_registry.cc:113] Plugin optimizer for device_type GPU is enabled.\n",
      "2023-04-08 02:10:10.836134: I tensorflow/core/grappler/optimizers/custom_graph_optimizer_registry.cc:113] Plugin optimizer for device_type GPU is enabled.\n",
      "2023-04-08 02:10:10.925669: I tensorflow/core/grappler/optimizers/custom_graph_optimizer_registry.cc:113] Plugin optimizer for device_type GPU is enabled.\n",
      "2023-04-08 02:10:11.054273: I tensorflow/core/grappler/optimizers/custom_graph_optimizer_registry.cc:113] Plugin optimizer for device_type GPU is enabled.\n",
      "2023-04-08 02:10:11.216640: I tensorflow/core/grappler/optimizers/custom_graph_optimizer_registry.cc:113] Plugin optimizer for device_type GPU is enabled.\n"
     ]
    },
    {
     "name": "stdout",
     "output_type": "stream",
     "text": [
      "73/73 [==============================] - ETA: 0s - loss: 1.1402 - accuracy: 0.5395"
     ]
    },
    {
     "name": "stderr",
     "output_type": "stream",
     "text": [
      "2023-04-08 02:10:31.989013: I tensorflow/core/grappler/optimizers/custom_graph_optimizer_registry.cc:113] Plugin optimizer for device_type GPU is enabled.\n",
      "2023-04-08 02:10:32.709618: I tensorflow/core/grappler/optimizers/custom_graph_optimizer_registry.cc:113] Plugin optimizer for device_type GPU is enabled.\n",
      "2023-04-08 02:10:32.801435: I tensorflow/core/grappler/optimizers/custom_graph_optimizer_registry.cc:113] Plugin optimizer for device_type GPU is enabled.\n"
     ]
    },
    {
     "name": "stdout",
     "output_type": "stream",
     "text": [
      "73/73 [==============================] - 31s 366ms/step - loss: 1.1402 - accuracy: 0.5395 - val_loss: 0.9365 - val_accuracy: 0.8163\n",
      "Epoch 2/15\n",
      "73/73 [==============================] - 20s 279ms/step - loss: 0.8136 - accuracy: 0.8419 - val_loss: 0.7159 - val_accuracy: 0.8571\n",
      "Epoch 3/15\n",
      "73/73 [==============================] - 19s 266ms/step - loss: 0.5858 - accuracy: 0.8591 - val_loss: 0.4966 - val_accuracy: 0.9184\n",
      "Epoch 4/15\n",
      "73/73 [==============================] - 19s 263ms/step - loss: 0.4061 - accuracy: 0.9347 - val_loss: 0.4185 - val_accuracy: 0.9082\n",
      "Epoch 5/15\n",
      "73/73 [==============================] - 19s 265ms/step - loss: 0.3490 - accuracy: 0.9107 - val_loss: 0.3762 - val_accuracy: 0.9184\n",
      "Epoch 6/15\n",
      "73/73 [==============================] - 19s 267ms/step - loss: 0.2181 - accuracy: 0.9828 - val_loss: 0.6001 - val_accuracy: 0.8469\n",
      "Epoch 7/15\n",
      "73/73 [==============================] - 19s 263ms/step - loss: 0.2604 - accuracy: 0.9416 - val_loss: 0.2680 - val_accuracy: 0.8980\n",
      "Epoch 8/15\n",
      "73/73 [==============================] - 19s 263ms/step - loss: 0.1738 - accuracy: 0.9759 - val_loss: 0.3188 - val_accuracy: 0.9286\n",
      "Epoch 9/15\n",
      "73/73 [==============================] - 19s 263ms/step - loss: 0.2561 - accuracy: 0.9313 - val_loss: 0.2975 - val_accuracy: 0.8980\n",
      "Epoch 10/15\n",
      "73/73 [==============================] - 19s 263ms/step - loss: 0.1430 - accuracy: 0.9725 - val_loss: 0.2638 - val_accuracy: 0.9490\n",
      "Epoch 11/15\n",
      "73/73 [==============================] - 20s 274ms/step - loss: 0.1689 - accuracy: 0.9656 - val_loss: 0.2650 - val_accuracy: 0.9286\n",
      "Epoch 12/15\n",
      "73/73 [==============================] - 19s 265ms/step - loss: 0.1027 - accuracy: 0.9794 - val_loss: 0.3455 - val_accuracy: 0.8980\n",
      "Epoch 13/15\n",
      "73/73 [==============================] - 19s 264ms/step - loss: 0.1690 - accuracy: 0.9553 - val_loss: 0.2256 - val_accuracy: 0.9388\n",
      "Epoch 14/15\n",
      "73/73 [==============================] - 19s 268ms/step - loss: 0.0683 - accuracy: 0.9897 - val_loss: 0.1888 - val_accuracy: 0.9286\n",
      "Epoch 15/15\n",
      "73/73 [==============================] - 19s 266ms/step - loss: 0.0530 - accuracy: 0.9897 - val_loss: 0.1936 - val_accuracy: 0.9490\n"
     ]
    }
   ],
   "source": [
    "hist = model.fit(x = features_train, y = labels_train, epochs = 15, batch_size = 4 , shuffle = True, validation_split = 0.25)"
   ]
  },
  {
   "cell_type": "code",
   "execution_count": 69,
   "id": "bfcceba4",
   "metadata": {},
   "outputs": [
    {
     "data": {
      "image/png": "[encoded data removed]",
      "text/plain": [
       "<Figure size 432x288 with 1 Axes>"
      ]
     },
     "metadata": {
      "needs_background": "light"
     },
     "output_type": "display_data"
    },
    {
     "data": {
      "image/png": "[encoded data removed]",
      "text/plain": [
       "<Figure size 432x288 with 1 Axes>"
      ]
     },
     "metadata": {
      "needs_background": "light"
     },
     "output_type": "display_data"
    },
    {
     "data": {
      "text/plain": [
       "(0.9897, 0.949)"
      ]
     },
     "execution_count": 69,
     "metadata": {},
     "output_type": "execute_result"
    }
   ],
   "source": [
    "plot(hist)"
   ]
  },
  {
   "cell_type": "markdown",
   "id": "a475a8f8",
   "metadata": {},
   "source": [
    "### Evaluating model"
   ]
  },
  {
   "cell_type": "code",
   "execution_count": 70,
   "id": "1a7e610b",
   "metadata": {},
   "outputs": [
    {
     "name": "stderr",
     "output_type": "stream",
     "text": [
      "2023-04-08 02:15:11.453093: I tensorflow/core/grappler/optimizers/custom_graph_optimizer_registry.cc:113] Plugin optimizer for device_type GPU is enabled.\n"
     ]
    },
    {
     "name": "stdout",
     "output_type": "stream",
     "text": [
      "1/1 [==============================] - 3s 3s/step\n"
     ]
    },
    {
     "name": "stderr",
     "output_type": "stream",
     "text": [
      "2023-04-08 02:15:11.938557: I tensorflow/core/grappler/optimizers/custom_graph_optimizer_registry.cc:113] Plugin optimizer for device_type GPU is enabled.\n",
      "2023-04-08 02:15:12.018354: I tensorflow/core/grappler/optimizers/custom_graph_optimizer_registry.cc:113] Plugin optimizer for device_type GPU is enabled.\n"
     ]
    },
    {
     "name": "stdout",
     "output_type": "stream",
     "text": [
      "1/1 [==============================] - 0s 59ms/step\n",
      "1/1 [==============================] - 0s 33ms/step\n",
      "1/1 [==============================] - 0s 58ms/step\n",
      "1/1 [==============================] - 0s 32ms/step\n",
      "1/1 [==============================] - 0s 32ms/step\n",
      "1/1 [==============================] - 0s 35ms/step\n",
      "1/1 [==============================] - 0s 31ms/step\n",
      "1/1 [==============================] - 0s 31ms/step\n",
      "1/1 [==============================] - 0s 31ms/step\n",
      "1/1 [==============================] - 0s 31ms/step\n",
      "1/1 [==============================] - 0s 31ms/step\n",
      "1/1 [==============================] - 0s 30ms/step\n",
      "1/1 [==============================] - 0s 30ms/step\n",
      "1/1 [==============================] - 0s 30ms/step\n",
      "1/1 [==============================] - 0s 30ms/step\n",
      "1/1 [==============================] - 0s 30ms/step\n",
      "1/1 [==============================] - 0s 30ms/step\n",
      "1/1 [==============================] - 0s 30ms/step\n",
      "1/1 [==============================] - 0s 32ms/step\n",
      "1/1 [==============================] - 0s 32ms/step\n",
      "1/1 [==============================] - 0s 30ms/step\n",
      "1/1 [==============================] - 0s 30ms/step\n",
      "1/1 [==============================] - 0s 30ms/step\n",
      "1/1 [==============================] - 0s 31ms/step\n",
      "1/1 [==============================] - 0s 31ms/step\n",
      "1/1 [==============================] - 0s 32ms/step\n",
      "1/1 [==============================] - 0s 31ms/step\n",
      "1/1 [==============================] - 0s 31ms/step\n",
      "1/1 [==============================] - 0s 31ms/step\n",
      "1/1 [==============================] - 0s 30ms/step\n",
      "1/1 [==============================] - 0s 31ms/step\n",
      "1/1 [==============================] - 0s 31ms/step\n",
      "1/1 [==============================] - 0s 30ms/step\n",
      "1/1 [==============================] - 0s 31ms/step\n",
      "1/1 [==============================] - 0s 31ms/step\n",
      "1/1 [==============================] - 0s 30ms/step\n",
      "1/1 [==============================] - 0s 31ms/step\n",
      "1/1 [==============================] - 0s 31ms/step\n",
      "1/1 [==============================] - 0s 31ms/step\n",
      "1/1 [==============================] - 0s 31ms/step\n",
      "1/1 [==============================] - 0s 31ms/step\n",
      "1/1 [==============================] - 0s 31ms/step\n",
      "1/1 [==============================] - 0s 31ms/step\n",
      "1/1 [==============================] - 0s 31ms/step\n",
      "1/1 [==============================] - 0s 31ms/step\n",
      "1/1 [==============================] - 0s 30ms/step\n",
      "1/1 [==============================] - 0s 30ms/step\n",
      "1/1 [==============================] - 0s 30ms/step\n",
      "1/1 [==============================] - 0s 31ms/step\n",
      "1/1 [==============================] - 0s 30ms/step\n",
      "1/1 [==============================] - 0s 32ms/step\n",
      "1/1 [==============================] - 0s 31ms/step\n",
      "1/1 [==============================] - 0s 33ms/step\n",
      "1/1 [==============================] - 0s 32ms/step\n",
      "1/1 [==============================] - 0s 32ms/step\n",
      "1/1 [==============================] - 0s 30ms/step\n",
      "1/1 [==============================] - 0s 30ms/step\n",
      "1/1 [==============================] - 0s 30ms/step\n",
      "1/1 [==============================] - 0s 31ms/step\n",
      "1/1 [==============================] - 0s 30ms/step\n",
      "1/1 [==============================] - 0s 30ms/step\n",
      "1/1 [==============================] - 0s 30ms/step\n",
      "1/1 [==============================] - 0s 31ms/step\n",
      "1/1 [==============================] - 0s 32ms/step\n",
      "1/1 [==============================] - 0s 37ms/step\n",
      "1/1 [==============================] - 0s 33ms/step\n",
      "1/1 [==============================] - 0s 32ms/step\n",
      "1/1 [==============================] - 0s 31ms/step\n",
      "1/1 [==============================] - 0s 32ms/step\n",
      "1/1 [==============================] - 0s 31ms/step\n",
      "1/1 [==============================] - 0s 33ms/step\n",
      "1/1 [==============================] - 0s 32ms/step\n",
      "1/1 [==============================] - 0s 32ms/step\n",
      "1/1 [==============================] - 0s 32ms/step\n",
      "1/1 [==============================] - 0s 32ms/step\n",
      "1/1 [==============================] - 0s 32ms/step\n",
      "1/1 [==============================] - 0s 32ms/step\n",
      "1/1 [==============================] - 0s 32ms/step\n",
      "1/1 [==============================] - 0s 32ms/step\n",
      "1/1 [==============================] - 0s 31ms/step\n",
      "1/1 [==============================] - 0s 31ms/step\n",
      "1/1 [==============================] - 0s 32ms/step\n",
      "1/1 [==============================] - 0s 32ms/step\n",
      "1/1 [==============================] - 0s 32ms/step\n",
      "1/1 [==============================] - 0s 33ms/step\n",
      "1/1 [==============================] - 0s 34ms/step\n",
      "1/1 [==============================] - 0s 32ms/step\n",
      "1/1 [==============================] - 0s 31ms/step\n",
      "1/1 [==============================] - 0s 31ms/step\n",
      "1/1 [==============================] - 0s 33ms/step\n",
      "1/1 [==============================] - 0s 31ms/step\n",
      "1/1 [==============================] - 0s 31ms/step\n",
      "1/1 [==============================] - 0s 31ms/step\n",
      "1/1 [==============================] - 0s 32ms/step\n",
      "1/1 [==============================] - 0s 30ms/step\n",
      "1/1 [==============================] - 0s 30ms/step\n",
      "1/1 [==============================] - 0s 31ms/step\n",
      "1/1 [==============================] - 0s 30ms/step\n",
      "1/1 [==============================] - 0s 30ms/step\n",
      "1/1 [==============================] - 0s 31ms/step\n",
      "1/1 [==============================] - 0s 30ms/step\n",
      "1/1 [==============================] - 0s 31ms/step\n",
      "1/1 [==============================] - 0s 31ms/step\n",
      "1/1 [==============================] - 0s 32ms/step\n",
      "1/1 [==============================] - 0s 31ms/step\n",
      "1/1 [==============================] - 0s 30ms/step\n",
      "1/1 [==============================] - 0s 31ms/step\n",
      "1/1 [==============================] - 0s 30ms/step\n",
      "1/1 [==============================] - 0s 30ms/step\n",
      "1/1 [==============================] - 0s 31ms/step\n",
      "1/1 [==============================] - 0s 31ms/step\n",
      "1/1 [==============================] - 0s 31ms/step\n",
      "1/1 [==============================] - 0s 31ms/step\n",
      "1/1 [==============================] - 0s 32ms/step\n",
      "1/1 [==============================] - 0s 31ms/step\n",
      "1/1 [==============================] - 0s 30ms/step\n",
      "1/1 [==============================] - 0s 30ms/step\n",
      "1/1 [==============================] - 0s 30ms/step\n",
      "1/1 [==============================] - 0s 30ms/step\n",
      "1/1 [==============================] - 0s 30ms/step\n",
      "1/1 [==============================] - 0s 30ms/step\n",
      "1/1 [==============================] - 0s 31ms/step\n",
      "1/1 [==============================] - 0s 30ms/step\n",
      "1/1 [==============================] - 0s 30ms/step\n",
      "1/1 [==============================] - 0s 31ms/step\n",
      "1/1 [==============================] - 0s 30ms/step\n",
      "1/1 [==============================] - 0s 30ms/step\n",
      "1/1 [==============================] - 0s 30ms/step\n",
      "1/1 [==============================] - 0s 51ms/step\n",
      "Accuracy = 99.23076923076923\n"
     ]
    }
   ],
   "source": [
    "# Calculate Accuracy On Test Dataset\n",
    "acc = 0\n",
    "for i in range(len(features_test)):\n",
    "    predicted_label = np.argmax(model.predict(np.expand_dims(features_test[i],axis =0))[0])\n",
    "    actual_label = np.argmax(labels_test[i])\n",
    "    if predicted_label == actual_label:\n",
    "        acc += 1\n",
    "acc = (acc * 100)/len(labels_test)\n",
    "print(\"Accuracy =\",acc)"
   ]
  },
  {
   "cell_type": "markdown",
   "id": "7e19c32f",
   "metadata": {},
   "source": [
    "### Saving Model"
   ]
  },
  {
   "cell_type": "code",
   "execution_count": 71,
   "id": "c869ea18",
   "metadata": {},
   "outputs": [],
   "source": [
    "# Save your Model.\n",
    "model.save(\"new mobilenet.h5\")"
   ]
  },
  {
   "cell_type": "markdown",
   "id": "80d1b237",
   "metadata": {},
   "source": [
    "### References"
   ]
  },
  {
   "cell_type": "markdown",
   "id": "4d94fd79",
   "metadata": {},
   "source": [
    "https://medium.com/mlearning-ai/suspicious-human-activity-detection-95b870dae688"
   ]
  },
  {
   "cell_type": "markdown",
   "id": "dec03a03",
   "metadata": {},
   "source": [
    "### Drone data"
   ]
  },
  {
   "cell_type": "markdown",
   "id": "278c7490",
   "metadata": {},
   "source": [
    "https://pixabay.com/videos/highway-raposo-tavares-brazil-drone-20828/\n",
    "    \n",
    "https://pixabay.com/videos/city-architecture-germany-road-22669/"
   ]
  }
 ],
 "metadata": {
  "kernelspec": {
   "display_name": "Python 3 (ipykernel)",
   "language": "python",
   "name": "python3"
  },
  "language_info": {
   "codemirror_mode": {
    "name": "ipython",
    "version": 3
   },
   "file_extension": ".py",
   "mimetype": "text/x-python",
   "name": "python",
   "nbconvert_exporter": "python",
   "pygments_lexer": "ipython3",
   "version": "3.9.13"
  }
 },
 "nbformat": 4,
 "nbformat_minor": 5
}
